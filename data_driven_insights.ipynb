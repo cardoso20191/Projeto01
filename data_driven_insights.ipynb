{
  "nbformat": 4,
  "nbformat_minor": 0,
  "metadata": {
    "colab": {
      "provenance": [],
      "authorship_tag": "ABX9TyO4nKHlf/Eb3XXgZd7a8oFW",
      "include_colab_link": true
    },
    "kernelspec": {
      "name": "python3",
      "display_name": "Python 3"
    },
    "language_info": {
      "name": "python"
    }
  },
  "cells": [
    {
      "cell_type": "markdown",
      "metadata": {
        "id": "view-in-github",
        "colab_type": "text"
      },
      "source": [
        "<a href=\"https://colab.research.google.com/github/cardoso20191/Projeto01/blob/main/data_driven_insights.ipynb\" target=\"_parent\"><img src=\"https://colab.research.google.com/assets/colab-badge.svg\" alt=\"Open In Colab\"/></a>"
      ]
    },
    {
      "cell_type": "markdown",
      "source": [
        "# 1. Importando as bibliotecas"
      ],
      "metadata": {
        "id": "hUFA2Y7Npxl8"
      }
    },
    {
      "cell_type": "code",
      "execution_count": null,
      "metadata": {
        "colab": {
          "base_uri": "https://localhost:8080/"
        },
        "id": "0XO_V2UwmKE7",
        "outputId": "ac001613-e3c2-4ec4-e99d-65f9edd446f7"
      },
      "outputs": [
        {
          "output_type": "stream",
          "name": "stdout",
          "text": [
            "Requirement already satisfied: matplotlib in /usr/local/lib/python3.11/dist-packages (3.10.0)\n",
            "Requirement already satisfied: contourpy>=1.0.1 in /usr/local/lib/python3.11/dist-packages (from matplotlib) (1.3.2)\n",
            "Requirement already satisfied: cycler>=0.10 in /usr/local/lib/python3.11/dist-packages (from matplotlib) (0.12.1)\n",
            "Requirement already satisfied: fonttools>=4.22.0 in /usr/local/lib/python3.11/dist-packages (from matplotlib) (4.58.5)\n",
            "Requirement already satisfied: kiwisolver>=1.3.1 in /usr/local/lib/python3.11/dist-packages (from matplotlib) (1.4.8)\n",
            "Requirement already satisfied: numpy>=1.23 in /usr/local/lib/python3.11/dist-packages (from matplotlib) (2.0.2)\n",
            "Requirement already satisfied: packaging>=20.0 in /usr/local/lib/python3.11/dist-packages (from matplotlib) (25.0)\n",
            "Requirement already satisfied: pillow>=8 in /usr/local/lib/python3.11/dist-packages (from matplotlib) (11.2.1)\n",
            "Requirement already satisfied: pyparsing>=2.3.1 in /usr/local/lib/python3.11/dist-packages (from matplotlib) (3.2.3)\n",
            "Requirement already satisfied: python-dateutil>=2.7 in /usr/local/lib/python3.11/dist-packages (from matplotlib) (2.9.0.post0)\n",
            "Requirement already satisfied: six>=1.5 in /usr/local/lib/python3.11/dist-packages (from python-dateutil>=2.7->matplotlib) (1.17.0)\n"
          ]
        }
      ],
      "source": [
        "#Importando biblioteca ausente\n",
        "\n",
        "%pip install matplotlib"
      ]
    },
    {
      "cell_type": "code",
      "source": [
        "import pandas as pd\n",
        "import numpy as np\n",
        "import matplotlib.pyplot as plt\n",
        "\n"
      ],
      "metadata": {
        "id": "4pEuFf40qc6g"
      },
      "execution_count": null,
      "outputs": []
    },
    {
      "cell_type": "markdown",
      "source": [
        "# 2. Carregando o dataset para análise - Covid_19"
      ],
      "metadata": {
        "id": "vmwXO-6WxBRy"
      }
    },
    {
      "cell_type": "code",
      "source": [
        "df = pd.read_csv('base_vendas_detalhada_2020_2025.csv')"
      ],
      "metadata": {
        "id": "Oi8ORM9txJ-x"
      },
      "execution_count": null,
      "outputs": []
    },
    {
      "cell_type": "code",
      "source": [
        "#Os 5 primeiros paises que aperece no topo de nosso data set não apresentada nenhum caso de covid conirmado.\n",
        "print(df.head())"
      ],
      "metadata": {
        "colab": {
          "base_uri": "https://localhost:8080/"
        },
        "id": "j3_gkManxtNV",
        "outputId": "c940e560-dd08-48c1-a8fe-fa6083a49ebf"
      },
      "execution_count": null,
      "outputs": [
        {
          "output_type": "stream",
          "name": "stdout",
          "text": [
            "   ID   Produto  Valor Unitário Data da Venda (DD/MM/AAAA)  Valor de Desconto  \\\n",
            "0   1   Teclado         2895.29                 01/02/2025             193.88   \n",
            "1   2   Monitor          460.05                 17/04/2021              27.44   \n",
            "2   3    Tablet         2923.14                 14/12/2021             188.82   \n",
            "3   4  Notebook         7351.37                 26/05/2024            1182.60   \n",
            "4   5  Notebook          649.08                 23/04/2024              44.38   \n",
            "\n",
            "   Preço Final        Vendedor Estado        Cidade           Comprador  \\\n",
            "0      2701.41   Lavínia Sales     SP        Santos     Carolina Aragão   \n",
            "1       432.61  Raquel da Mata     RS  Porto Alegre        Juan Almeida   \n",
            "2      2734.32  Pietro Cardoso     SP     São Paulo  Vinicius Rodrigues   \n",
            "3      6168.77     Lara Campos     SP        Santos        Kevin da Luz   \n",
            "4       604.70    Yasmin Moura     SP     São Paulo      Noah das Neves   \n",
            "\n",
            "        Sexo  Idade Forma de Pagamento Parcelado (Sim, Não)  \n",
            "0   Feminino     20                Pix                  Não  \n",
            "1   Feminino     55             Débito                  Não  \n",
            "2   Feminino     24             Débito                  Não  \n",
            "3   Feminino     58            Crédito                  Não  \n",
            "4  Masculino     42             Débito                  Não  \n"
          ]
        }
      ]
    },
    {
      "cell_type": "code",
      "source": [
        "# O data set apresenta um total de 10 colunas por 49068\n",
        "print(df.shape)"
      ],
      "metadata": {
        "colab": {
          "base_uri": "https://localhost:8080/"
        },
        "id": "jS2rIKkCx_xQ",
        "outputId": "ddd59cd0-0417-437f-868c-530af5e57179"
      },
      "execution_count": null,
      "outputs": [
        {
          "output_type": "stream",
          "name": "stdout",
          "text": [
            "(5000, 14)\n"
          ]
        }
      ]
    },
    {
      "cell_type": "code",
      "source": [
        "#Identifiquei que além da região foi inserido a logetude e latitude de cada pais,\n",
        "print(df.columns)"
      ],
      "metadata": {
        "colab": {
          "base_uri": "https://localhost:8080/"
        },
        "id": "fGXcwJrvyO4A",
        "outputId": "11acd727-51ac-4c66-b9ec-bcad0fcf643a"
      },
      "execution_count": null,
      "outputs": [
        {
          "output_type": "stream",
          "name": "stdout",
          "text": [
            "Index(['ID', 'Produto', 'Valor Unitário', 'Data da Venda (DD/MM/AAAA)',\n",
            "       'Valor de Desconto', 'Preço Final', 'Vendedor', 'Estado', 'Cidade',\n",
            "       'Comprador', 'Sexo', 'Idade', 'Forma de Pagamento',\n",
            "       'Parcelado (Sim, Não)'],\n",
            "      dtype='object')\n"
          ]
        }
      ]
    },
    {
      "cell_type": "code",
      "source": [
        "#Identiquei que no data set não consta nenhuma coluna do tipo str\n",
        "print(df.dtypes)"
      ],
      "metadata": {
        "colab": {
          "base_uri": "https://localhost:8080/"
        },
        "id": "8ZaGbl1eyYrh",
        "outputId": "5b373f7c-cefe-4c0c-f008-8db146ee88b6"
      },
      "execution_count": null,
      "outputs": [
        {
          "output_type": "stream",
          "name": "stdout",
          "text": [
            "ID                              int64\n",
            "Produto                        object\n",
            "Valor Unitário                float64\n",
            "Data da Venda (DD/MM/AAAA)     object\n",
            "Valor de Desconto             float64\n",
            "Preço Final                   float64\n",
            "Vendedor                       object\n",
            "Estado                         object\n",
            "Cidade                         object\n",
            "Comprador                      object\n",
            "Sexo                           object\n",
            "Idade                           int64\n",
            "Forma de Pagamento             object\n",
            "Parcelado (Sim, Não)           object\n",
            "dtype: object\n"
          ]
        }
      ]
    },
    {
      "cell_type": "markdown",
      "source": [
        "#Listas, Dicionário e Tuplas"
      ],
      "metadata": {
        "id": "C8dVm9zjzxso"
      }
    },
    {
      "cell_type": "code",
      "source": [
        "#Listas - Extraia uma coluna de interesse em uma lista Python e faça um loop imprimindo informações sobre cada item.\n",
        "\n",
        "Pais = list(df['Produto'])\n",
        "for paises in Pais[:5]:\n",
        "  print(paises)"
      ],
      "metadata": {
        "colab": {
          "base_uri": "https://localhost:8080/"
        },
        "id": "gE9cvE5g0CY5",
        "outputId": "d70a52d1-af76-4f80-c5b3-fcd8393988d0"
      },
      "execution_count": null,
      "outputs": [
        {
          "output_type": "stream",
          "name": "stdout",
          "text": [
            "Teclado\n",
            "Monitor\n",
            "Tablet\n",
            "Notebook\n",
            "Notebook\n"
          ]
        }
      ]
    },
    {
      "cell_type": "code",
      "source": [
        "# Dicionario - Monte um dicionário relacionando dois campos importantes da base (ex: produto:categoria, filme:gênero, aluno:disciplina) e exiba 3 pares.\n",
        "# Dicionário: chave e valor, exemplo (nome:categoria)\n",
        "\n",
        "dicionario = dict(zip(df['Produto'][:3], df['Vendedor'][:3]))\n",
        "print(dicionario)\n"
      ],
      "metadata": {
        "colab": {
          "base_uri": "https://localhost:8080/"
        },
        "id": "QgeQ6oI41ZS8",
        "outputId": "8c8049d2-7f01-4bf3-d8b1-b90ad27a4b23"
      },
      "execution_count": null,
      "outputs": [
        {
          "output_type": "stream",
          "name": "stdout",
          "text": [
            "{'Teclado': 'Lavínia Sales', 'Monitor': 'Raquel da Mata', 'Tablet': 'Pietro Cardoso'}\n"
          ]
        }
      ]
    },
    {
      "cell_type": "code",
      "source": [
        "# Tupla - Crie uma tupla contendo três informações distintas de uma linha e imprima o resultado.\n",
        "# Tupla: informações de uma linha\n",
        "\n",
        "linha0 = df.iloc[0]\n",
        "minha_tupla = (linha0['Produto'], linha0['Vendedor'], linha0['Estado'])\n",
        "print(minha_tupla)\n"
      ],
      "metadata": {
        "colab": {
          "base_uri": "https://localhost:8080/"
        },
        "id": "t9Y7cQd72ihm",
        "outputId": "ccd50289-81d5-4794-ec17-29f4cce7cfd4"
      },
      "execution_count": null,
      "outputs": [
        {
          "output_type": "stream",
          "name": "stdout",
          "text": [
            "('Teclado', 'Lavínia Sales', 'SP')\n"
          ]
        }
      ]
    },
    {
      "cell_type": "markdown",
      "source": [
        "#4. Estruturas Condicionais e Laços"
      ],
      "metadata": {
        "id": "RxD6hDhx5sV7"
      }
    },
    {
      "cell_type": "code",
      "source": [
        "# Escolha uma coluna numérica adequada\n",
        "coluna_numerica = 'Valor Unitário'\n",
        "primeiro_valor = df[coluna_numerica][0]\n",
        "print(primeiro_valor)"
      ],
      "metadata": {
        "colab": {
          "base_uri": "https://localhost:8080/"
        },
        "id": "pUCsRibpnmOj",
        "outputId": "4fb7fbf4-e8aa-4252-d2ae-4f925ac73bd7"
      },
      "execution_count": null,
      "outputs": [
        {
          "output_type": "stream",
          "name": "stdout",
          "text": [
            "2895.29\n"
          ]
        }
      ]
    },
    {
      "cell_type": "code",
      "source": [
        "# Estrutura condicional personalizada:\n",
        "# Substitua os valores (10, 5) conforme a distribuição da sua coluna.\n",
        "if primeiro_valor > 2895.29:\n",
        "    print(\"Acima do menor valor\")\n",
        "elif primeiro_valor > 5:\n",
        "    print(\"Valor intermediário\")\n",
        "else:\n",
        "    print(\"Valor baixo\")"
      ],
      "metadata": {
        "colab": {
          "base_uri": "https://localhost:8080/"
        },
        "id": "VP-KMNVVpsYm",
        "outputId": "88f5f833-7bf8-4279-85d4-115fa27e8454"
      },
      "execution_count": null,
      "outputs": [
        {
          "output_type": "stream",
          "name": "stdout",
          "text": [
            "Valor intermediário\n"
          ]
        }
      ]
    },
    {
      "cell_type": "code",
      "source": [
        "# For para operar sobre n primeiros elementos de uma coluna numérica escolhida\n",
        "soma = 0\n",
        "lista = list(df[coluna_numerica][:5])\n",
        "for n in lista:\n",
        "    soma += n\n",
        "print(\"Soma dos 5 primeiros valores:\", soma)"
      ],
      "metadata": {
        "colab": {
          "base_uri": "https://localhost:8080/"
        },
        "id": "3HOxeMobqQMv",
        "outputId": "30033acc-933c-4e5b-90ac-dbd41867210f"
      },
      "execution_count": null,
      "outputs": [
        {
          "output_type": "stream",
          "name": "stdout",
          "text": [
            "Soma dos 5 primeiros valores: 14278.929999999998\n"
          ]
        }
      ]
    },
    {
      "cell_type": "code",
      "source": [
        "# While: Encontrar o primeiro valor maior que um certo limite, definido de acordo com os dados\n",
        "limite = 10  # Ajuste conforme o contexto da coluna escolhida\n",
        "i = 0\n",
        "while i < len(lista) and lista[i] <= limite:\n",
        "    i += 1\n",
        "if i < len(lista):\n",
        "    print(\"Primeiro valor >\", limite, \"encontrado:\", lista[i])\n",
        "else:\n",
        "    print(\"Nenhum valor maior que\", limite, \"encontrado nos primeiros 5.\")"
      ],
      "metadata": {
        "colab": {
          "base_uri": "https://localhost:8080/"
        },
        "id": "tbeJOZ_kqmIB",
        "outputId": "7507d4dd-4d23-41e0-eb45-0ab30864c649"
      },
      "execution_count": null,
      "outputs": [
        {
          "output_type": "stream",
          "name": "stdout",
          "text": [
            "Primeiro valor > 10 encontrado: 2895.29\n"
          ]
        }
      ]
    },
    {
      "cell_type": "markdown",
      "source": [
        "#5. Operadores Aritméticos e Manipulação de Dados"
      ],
      "metadata": {
        "id": "lTOSThLEqvoE"
      }
    },
    {
      "cell_type": "code",
      "source": [
        "if 'Valor Unitário' in df.columns and 'Preço Final' in df.columns:\n",
        "    df['Diferenca'] = df['Valor Unitário'] - df['Preço Final']\n",
        "    print(df[['Valor Unitário', 'Preço Final', 'Diferenca']].head())\n"
      ],
      "metadata": {
        "colab": {
          "base_uri": "https://localhost:8080/"
        },
        "id": "fmfqxXXgq0Kd",
        "outputId": "42003a95-502f-449e-cf44-116904f0f322"
      },
      "execution_count": null,
      "outputs": [
        {
          "output_type": "stream",
          "name": "stdout",
          "text": [
            "   Valor Unitário  Preço Final  Diferenca\n",
            "0         2895.29      2701.41     193.88\n",
            "1          460.05       432.61      27.44\n",
            "2         2923.14      2734.32     188.82\n",
            "3         7351.37      6168.77    1182.60\n",
            "4          649.08       604.70      44.38\n"
          ]
        }
      ]
    },
    {
      "cell_type": "code",
      "source": [
        "# Exemplo: preço com desconto\n",
        "if 'Valor Unitário' in df.columns:\n",
        "    df['Desconto'] = df['Valor Unitário'] * 0.9\n",
        "    print(df[['Valor Unitário', 'Desconto']].head())"
      ],
      "metadata": {
        "colab": {
          "base_uri": "https://localhost:8080/"
        },
        "id": "Qw9iTsX_rVgp",
        "outputId": "54c66385-faaa-4e0e-83b0-05e23b94e0e5"
      },
      "execution_count": null,
      "outputs": [
        {
          "output_type": "stream",
          "name": "stdout",
          "text": [
            "   Valor Unitário  Desconto\n",
            "0         2895.29  2605.761\n",
            "1          460.05   414.045\n",
            "2         2923.14  2630.826\n",
            "3         7351.37  6616.233\n",
            "4          649.08   584.172\n"
          ]
        }
      ]
    },
    {
      "cell_type": "markdown",
      "source": [
        "#6. NumPy e Arrays Numéricos"
      ],
      "metadata": {
        "id": "WvgbWg_Nrr9O"
      }
    },
    {
      "cell_type": "code",
      "source": [
        "array = np.array(df['Valor Unitário'])"
      ],
      "metadata": {
        "id": "EvtvdL6Brub0"
      },
      "execution_count": null,
      "outputs": []
    },
    {
      "cell_type": "code",
      "source": [
        "# Operações NumPy\n",
        "array_somado = array + 10\n",
        "array_quadrado = array ** 2\n",
        "\n",
        "print(array[:5])\n",
        "print(array_somado[:5])\n",
        "print(array_quadrado[:5])\n",
        "\n",
        "print(\"Soma dos elementos:\", array.sum())\n",
        "print(\"Média dos elementos:\", array.mean())"
      ],
      "metadata": {
        "colab": {
          "base_uri": "https://localhost:8080/"
        },
        "id": "46Knm-4Nr10C",
        "outputId": "91ec4649-9833-4b7f-ad26-9f205961611f"
      },
      "execution_count": null,
      "outputs": [
        {
          "output_type": "stream",
          "name": "stdout",
          "text": [
            "[2895.29  460.05 2923.14 7351.37  649.08]\n",
            "[2905.29  470.05 2933.14 7361.37  659.08]\n",
            "[ 8382704.1841       211646.0025      8544747.4596     54042640.87689999\n",
            "   421304.8464    ]\n",
            "Soma dos elementos: 25798960.08\n",
            "Média dos elementos: 5159.792015999999\n"
          ]
        }
      ]
    },
    {
      "cell_type": "markdown",
      "source": [
        "# 7. Acesso e Manipulação de Dados com Pandas"
      ],
      "metadata": {
        "id": "7j-_2jPbr9Rj"
      }
    },
    {
      "cell_type": "code",
      "source": [
        "array = np.array(df['Valor Unitário'])"
      ],
      "metadata": {
        "id": "3EZx03OQsBrq"
      },
      "execution_count": null,
      "outputs": []
    },
    {
      "cell_type": "code",
      "source": [
        "# Operações NumPy\n",
        "array_somado = array + 10\n",
        "array_quadrado = array ** 2\n",
        "\n",
        "print(array[:5])\n",
        "print(array_somado[:5])\n",
        "print(array_quadrado[:5])\n",
        "\n",
        "print(\"Soma dos elementos:\", array.sum())\n",
        "print(\"Média dos elementos:\", array.mean())"
      ],
      "metadata": {
        "colab": {
          "base_uri": "https://localhost:8080/"
        },
        "id": "tfDJ6UchsGdJ",
        "outputId": "6ffa828e-0fd2-495c-bf6e-671436a0f3a1"
      },
      "execution_count": null,
      "outputs": [
        {
          "output_type": "stream",
          "name": "stdout",
          "text": [
            "[2895.29  460.05 2923.14 7351.37  649.08]\n",
            "[2905.29  470.05 2933.14 7361.37  659.08]\n",
            "[ 8382704.1841       211646.0025      8544747.4596     54042640.87689999\n",
            "   421304.8464    ]\n",
            "Soma dos elementos: 25798960.08\n",
            "Média dos elementos: 5159.792015999999\n"
          ]
        }
      ]
    },
    {
      "cell_type": "markdown",
      "source": [
        "# 8. Visualização de Dados"
      ],
      "metadata": {
        "id": "_tZBe4FYsJRq"
      }
    },
    {
      "cell_type": "code",
      "source": [
        "# Gráfico de Linha (ex: evolução temporal; use 'Data' se houver)\n",
        "if 'Produto' in df.columns and 'Valor Unitário' in df.columns:\n",
        "    df.groupby('Produto')['Valor Unitário'].sum().plot(kind='line')\n",
        "    plt.title('Evolução no tempo')\n",
        "    plt.xlabel('Data')\n",
        "    plt.ylabel('Valor Unitário')\n",
        "    plt.show()\n"
      ],
      "metadata": {
        "colab": {
          "base_uri": "https://localhost:8080/",
          "height": 472
        },
        "id": "1ljfct8WsMkO",
        "outputId": "0299901d-fff7-4145-d107-b7c1908109a6"
      },
      "execution_count": null,
      "outputs": [
        {
          "output_type": "display_data",
          "data": {
            "text/plain": [
              "<Figure size 640x480 with 1 Axes>"
            ],
            "image/png": "[encoded data removed]"
          },
          "metadata": {}
        }
      ]
    },
    {
      "cell_type": "code",
      "source": [
        "# Gráfico de Barras (categorias)\n",
        "if 'Produto' in df.columns and 'Valor Unitário' in df.columns:\n",
        "    df.groupby('Produto')['Valor Unitário'].sum().plot(kind='bar')\n",
        "    plt.title('Total por categoria')\n",
        "    plt.xlabel('Escolha_Coluna_STR')\n",
        "    plt.ylabel('Escolha_Coluna_INT_Ou_FLOAT')\n",
        "    plt.show()"
      ],
      "metadata": {
        "colab": {
          "base_uri": "https://localhost:8080/",
          "height": 542
        },
        "id": "rAn5YBznsZWE",
        "outputId": "5d3ce7ea-9ea8-4990-894c-d93635d3d862"
      },
      "execution_count": null,
      "outputs": [
        {
          "output_type": "display_data",
          "data": {
            "text/plain": [
              "<Figure size 640x480 with 1 Axes>"
            ],
            "image/png": "[encoded data removed]"
          },
          "metadata": {}
        }
      ]
    },
    {
      "cell_type": "code",
      "source": [
        "# Gráfico de Dispersão (duas numéricas)\n",
        "if 'Valor Unitário' in df.columns and 'Preço Final' in df.columns:\n",
        "    plt.scatter(df['Valor Unitário'], df['Preço Final'])\n",
        "    plt.title('Dispersão')\n",
        "    plt.xlabel('Valor Unitário')\n",
        "    plt.ylabel('Preço Final')\n",
        "    plt.show()"
      ],
      "metadata": {
        "colab": {
          "base_uri": "https://localhost:8080/",
          "height": 472
        },
        "id": "a5qJHl0atVLo",
        "outputId": "3ca64b69-4af6-4a6c-c9f5-118f37397f42"
      },
      "execution_count": null,
      "outputs": [
        {
          "output_type": "display_data",
          "data": {
            "text/plain": [
              "<Figure size 640x480 with 1 Axes>"
            ],
            "image/png": "[encoded data removed]"
          },
          "metadata": {}
        }
      ]
    }
  ]
}